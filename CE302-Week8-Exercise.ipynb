{
 "cells": [
  {
   "cell_type": "markdown",
   "metadata": {},
   "source": [
    "### Multithreading"
   ]
  },
  {
   "cell_type": "markdown",
   "metadata": {},
   "source": [
    "* Bir işletim sistemi üzerinde herhangi bir dil ile kodlanmış ve bir compiler (derleyici) ile derlenmiş ve daha sonra hafızaya yüklenerek işlemcide çalıştırılan programlara process denir. Kısacası bir programın çalışan hali processtir.\n",
    "\n",
    "* Threadler ise processlerin içerisinde yer alan eş zamanlı olarak çalışabilen iş parçacıklarıdır. Yani threadler sayesinde kodlarımızı ardaşık olarak yürütmek yerine eş zamanlı olarak yürütebiliriz.\n",
    "\n",
    "* Multithreading, çoğu yazılım dili tarafından desteklenen temel programlama prensibidir ve bir programda aynı zamanda birden fazla işin yapılabilmesini sağlamaktadır. Yani bir kod parçası bir işlemi gerçekleştirirken aynı anda ona paralel olarak bir başka kod parçasının da çalışması demektir. Multithread yapısında olmayan programlar, main thread isimli tek bir thread üzerinden yürütülürler."
   ]
  },
  {
   "cell_type": "markdown",
   "metadata": {},
   "source": [
    "![](1-Figures/m1.png), ![](1-Figures/m2.png)"
   ]
  },
  {
   "cell_type": "markdown",
   "metadata": {},
   "source": [
    "Thread kullanmak;\n",
    "\n",
    "* Kaynak paylaşımı\n",
    "* Daha az bekleme süresi\n",
    "* Daha verimli donanım kullanımı\n",
    "\n",
    "gibi faydalar sağlamaktadır."
   ]
  },
  {
   "cell_type": "markdown",
   "metadata": {},
   "source": [
    "## 1. Multithreading Modülü"
   ]
  },
  {
   "cell_type": "markdown",
   "metadata": {},
   "source": [
    "---\n",
    "Python dilini kullanarak threadler ile ilgili uygulamalar geliştirmek istiyorsak aşağıdaki iki modülden birisini import etmemiz gerekmektedir. Bu modüller;\n",
    "\n",
    "* thread\n",
    "* threading\n",
    "\n",
    "modülleridir.\n",
    "\n",
    "thread modülü python 3 ile birlikte (_thread) olarak değişmiştir. _thread ve threading modülleri arasındaki temel fark threading modülünün nesne dayalı programlama prensibini desteklemesidir.\n",
    "\n",
    "---"
   ]
  },
  {
   "cell_type": "code",
   "execution_count": 1,
   "metadata": {},
   "outputs": [
    {
     "name": "stdout",
     "output_type": "stream",
     "text": [
      "thread-2 çalışıyor\n",
      "thread-2 çalışıyor\n",
      "thread-2 çalışıyor\n",
      "thread-2 çalışıyor\n",
      "thread-2 çalışıyor\n",
      "thread-2 çalışıyor\n",
      "thread-2 çalışıyor\n"
     ]
    },
    {
     "data": {
      "text/plain": [
       "8660"
      ]
     },
     "execution_count": 1,
     "metadata": {},
     "output_type": "execute_result"
    },
    {
     "name": "stdout",
     "output_type": "stream",
     "text": [
      "thread-1 çalışıyor\n",
      "thread-1 çalışıyor\n",
      "thread-1 çalışıyor\n",
      "thread-1 çalışıyor\n",
      "thread-1 çalışıyor\n",
      "thread-1 çalışıyor\n",
      "thread-1 çalışıyor\n"
     ]
    }
   ],
   "source": [
    "import _thread #_thread modülünü import ettik\n",
    "\n",
    "def f(threadName):  #threadin hedefi olan fonksiyon\n",
    "    i =0\n",
    "    \n",
    "    while i<7:\n",
    "        print(threadName ,\"çalışıyor\")\n",
    "        i=i+1\n",
    "\n",
    "_thread.start_new_thread(f,(\"thread-1\",)) #thread tanımladık ve aynı zamanda threadi start metodu ile çalıştırdık\n",
    "_thread.start_new_thread(f,(\"thread-2\",))"
   ]
  },
  {
   "cell_type": "markdown",
   "metadata": {},
   "source": [
    "Yukarıda yer alan kodda thread ile ilgili fonksiyonları kullanabilmek için ilk önce _thread modülünü import ettik.\n",
    "\n",
    "_thread.start_new_thread(f,(“thread-1”,)) ile yeni bir thread tanımladık ve threade hedef olarak f fonksiyonunu parametre olarak “thread-1”i verdik ve start ile çalıştırdık. Fonksiyon ile çalışan threadi 7 kere ekrana yazdırdık.\n",
    "\n",
    "---"
   ]
  },
  {
   "cell_type": "code",
   "execution_count": 2,
   "metadata": {},
   "outputs": [
    {
     "name": "stdout",
     "output_type": "stream",
     "text": [
      "thread-1 çalışıyor\n",
      "thread-1 çalışıyor\n",
      "thread-1 çalışıyor\n",
      "thread-1 çalışıyor\n",
      "thread-1 çalışıyor\n",
      "thread-1 çalışıyor\n",
      "thread-1 çalışıyor\n",
      "thread-2 çalışıyor\n",
      "thread-2 çalışıyor\n",
      "thread-2 çalışıyor\n",
      "thread-2 çalışıyor\n",
      "thread-2 çalışıyor\n",
      "thread-2 çalışıyor\n",
      "thread-2 çalışıyor\n"
     ]
    }
   ],
   "source": [
    "import threading #threading modülünü import ettik\n",
    "\n",
    "def f(threadName): \n",
    "    i =0\n",
    "    while i<7:\n",
    "        print(threadName ,\"çalışıyor\")\n",
    "        i=i+1\n",
    "\n",
    "t1 = threading.Thread(target=f,args = (\"thread-1\", ))  #threadi tanımladık ve f fonksiyonunu hedef gösterdik\n",
    "t1.start() #threadi çalıştırdık\n",
    "t2 = threading.Thread(target=f,args = (\"thread-2\", ))\n",
    "t2.start()"
   ]
  },
  {
   "cell_type": "markdown",
   "metadata": {},
   "source": [
    "Yukarıdaki kodda ilk olarak threading modülünü import ettik.\n",
    "\n",
    "t1 = threading.Thread(target=f,args = (“thread-1”, )) kodu ile t1 adında bir thread oluşturduk, threade hedef olarak f fonksiyonunu parametre olarak da “thread-1”i verdik. Start() komutuyla threadi çalıştırdık. \n",
    "\n",
    "Aynı şekilde iki threadi de ekrana 7 kere yazdırdık. \n",
    "\n",
    "___"
   ]
  },
  {
   "cell_type": "code",
   "execution_count": 8,
   "metadata": {},
   "outputs": [
    {
     "name": "stdout",
     "output_type": "stream",
     "text": [
      "Thread-2: Wed Apr 21 14:03:29 2021\n",
      "Thread-1: Wed Apr 21 14:03:31 2021\n",
      "Thread-2: Wed Apr 21 14:03:32 2021\n",
      "Thread-2: Wed Apr 21 14:03:35 2021\n",
      "Thread-1: Wed Apr 21 14:03:36 2021\n",
      "Thread-2: Wed Apr 21 14:03:38 2021\n",
      "Thread-1: Wed Apr 21 14:03:41 2021\n",
      "Thread-2: Wed Apr 21 14:03:41 2021\n",
      "Thread-1: Wed Apr 21 14:03:46 2021\n"
     ]
    }
   ],
   "source": [
    "import _thread\n",
    "import time\n",
    "\n",
    "# threadin yapması gereken isleri fonksiyonun içerisinde tanimliyoruz\n",
    "def print_time( threadName, beklemeSuresi):\n",
    "    count = 0\n",
    "    while count < 5:\n",
    "        time.sleep(beklemeSuresi)\n",
    "        count += 1\n",
    "        print (\"%s: %s\" % ( threadName, time.ctime(time.time()) ))\n",
    "\n",
    "# İki thread olusturduk ve çalistirdik\n",
    "try:\n",
    "    _thread.start_new_thread( print_time, (\"Thread-1\", 5,) )\n",
    "    _thread.start_new_thread( print_time, (\"Thread-2\", 3,) )\n",
    "except:\n",
    "    print (\"Error : thread çalışmadı\")"
   ]
  },
  {
   "cell_type": "markdown",
   "metadata": {},
   "source": [
    "Yukarıda yer alan kodda ilk olarak _thread ve date modülünü import ettik. İlgili modülleri import ettikten sonra try bloğu içerisinde iki tane thread tanımladık, tanımladığımız threadlere hedef olarak print_time fonksiyonunu (threadin yapacağı iş) parametre olarak da “thread-1” ve 1’i verip çalıştırdık. Ekran çıktısı yukarıdaki gibidir. Thrad-1 1 saniye bekleme süresi ile ekrana tarihi ve sistemin saatini yazdırmaktadır. Thread-2 ise 3 saniye bekleme süresi ile ekrana tarihi ve sistemin saatini yazdırmaktadır.\n",
    "\n",
    "---"
   ]
  },
  {
   "cell_type": "code",
   "execution_count": 10,
   "metadata": {},
   "outputs": [
    {
     "data": {
      "text/plain": [
       "15720"
      ]
     },
     "execution_count": 10,
     "metadata": {},
     "output_type": "execute_result"
    },
    {
     "name": "stdout",
     "output_type": "stream",
     "text": [
      "Thread: 1\n",
      "1! = 1\n",
      "2! = 2\n",
      "3! = 6\n",
      "4! = 24\n",
      "5! = 120\n",
      "6! = 720\n",
      "7! = 5040\n",
      "8! = 40320\n",
      "9! = 362880\n",
      "10! = 3628800\n",
      "11! = 39916800\n",
      "12! = 479001600\n",
      "13! = 6227020800\n",
      "14! = 87178291200\n",
      "15! = 1307674368000\n",
      "Thread: 2\n",
      "1! = 1\n",
      "2! = 2\n",
      "3! = 6\n",
      "4! = 24\n",
      "5! = 120\n"
     ]
    }
   ],
   "source": [
    "#Threadler ile faktöriyel hesabı;\n",
    "\n",
    "import _thread\n",
    "\n",
    "threadId = 1\n",
    "\n",
    "def factorial(n):\n",
    "    global threadId\n",
    "    if n < 1:   \n",
    "        print (\"%s: %d\" % (\"Thread\", threadId ))\n",
    "        threadId += 1\n",
    "        return 1\n",
    "    else:\n",
    "        returnNumber = n * factorial( n - 1 )  # recursive fonksiyon\n",
    "        print(str(n) + '! = ' + str(returnNumber))\n",
    "        return returnNumber\n",
    "\n",
    "_thread.start_new_thread(factorial,(15, ))\n",
    "_thread.start_new_thread(factorial,(5, ))"
   ]
  },
  {
   "cell_type": "markdown",
   "metadata": {},
   "source": [
    "---\n",
    "## 2. Threading Modülünün Metotları"
   ]
  },
  {
   "cell_type": "markdown",
   "metadata": {},
   "source": [
    "threading modülünün _thread modülünden nesneye dayalı programlama prensiblerini desteklemesi yönünden farklıdır. Bunun yanında threading modülü _thread modülünün tüm metodlarını içerir ve _thread modülüne ek bazı metodları da destekler. Bu metodlar aşağıdaki gibidir:\n",
    "\n",
    "* threading.activeCount() : Aktif olarak çalışan thread sayısını geri döndürür.\n",
    "* threading.enumerate() : Aktif olarak çalışan threadlerin listesini geri döndürür.\n",
    "* threading.main_thread() : Main threadi geri döndürür.\n",
    "* threading.get_ident() : Threadin tanımlayıcısını (identifier) geri döndürür."
   ]
  },
  {
   "cell_type": "code",
   "execution_count": 12,
   "metadata": {},
   "outputs": [
    {
     "name": "stdout",
     "output_type": "stream",
     "text": [
      "5\n",
      "[<_MainThread(MainThread, started 10792)>, <Thread(Thread-4, started daemon 3884)>, <Heartbeat(Thread-5, started daemon 8928)>, <HistorySavingThread(IPythonHistorySavingThread, started 6516)>, <ParentPollerWindows(Thread-3, started daemon 8836)>]\n",
      "<_MainThread(MainThread, started 10792)>\n",
      "10792\n"
     ]
    }
   ],
   "source": [
    "import threading #threading modülünü import ettik\n",
    "\n",
    "def f(threadName): \n",
    "    i =0\n",
    "    while i<10:\n",
    "        #print(threadName ,\"çalışıyor\")\n",
    "        i=i+1\n",
    "\n",
    "t1 = threading.Thread(target=f,args = (\"thread-1\", ))  #threadi tanımladık ve f fonksiyonunu hedef gösterdik\n",
    "t1.start() #threadi çalıştırdık\n",
    "\n",
    "print(threading.activeCount())  #çalışan thread sayısı\n",
    "\n",
    "print(threading.enumerate())    #çalışan thread listesi\n",
    "\n",
    "print(threading.main_thread())  #main thread\n",
    "\n",
    "print(threading.get_ident())    #thread tanımlayıcısı"
   ]
  },
  {
   "cell_type": "markdown",
   "metadata": {},
   "source": [
    "---\n",
    "## 3. Thread Sınıfı Metotları"
   ]
  },
  {
   "cell_type": "markdown",
   "metadata": {},
   "source": [
    "Thread sınıfının metodları aşağıdaki gibidir.\n",
    "\n",
    "* run() : Threadin etkinliğini yaptığı işi temsil eder.\n",
    "* start() : Threadin yapacağı işi, etkinliğini başlatır. run() metodunun çalıştırılmasını sağlar.\n",
    "* join([time]) : Thread sonlanana kadar bekler.\n",
    "* isAlive() : Threadin hala çalışıp çalışmadığını kontrol eder. True, false değer döndürür.\n",
    "* getName() : Threadin adını döndürür.\n",
    "* setName() : Threadin adını set eder."
   ]
  },
  {
   "cell_type": "code",
   "execution_count": 13,
   "metadata": {},
   "outputs": [
    {
     "name": "stdout",
     "output_type": "stream",
     "text": [
      "Starting Thread-1\n",
      "Starting Thread-2True\n",
      "Thread-1\n"
     ]
    },
    {
     "name": "stderr",
     "output_type": "stream",
     "text": [
      "<ipython-input-13-27987e433dda>:29: DeprecationWarning: isAlive() is deprecated, use is_alive() instead\n",
      "  print(thread1.isAlive())\n"
     ]
    },
    {
     "name": "stdout",
     "output_type": "stream",
     "text": [
      "\n",
      "Thread-1: Wed Apr 21 10:51:45 2021\n",
      "thread-3: Wed Apr 21 10:51:46 2021Thread-1: Wed Apr 21 10:51:46 2021\n",
      "\n",
      "Thread-1: Wed Apr 21 10:51:47 2021\n",
      "thread-3: Wed Apr 21 10:51:48 2021\n",
      "Thread-1: Wed Apr 21 10:51:48 2021\n",
      "Thread-1: Wed Apr 21 10:51:49 2021\n",
      "Exiting Thread-1\n",
      "thread-3: Wed Apr 21 10:51:50 2021\n",
      "thread-3: Wed Apr 21 10:51:52 2021\n",
      "thread-3: Wed Apr 21 10:51:54 2021\n",
      "Exiting thread-3\n"
     ]
    }
   ],
   "source": [
    "import threading \n",
    "import time\n",
    "\n",
    "class myThread (threading.Thread):  #myThread isimli sinifimiz Thread sinifindan miras aldı.\n",
    "    \n",
    "    def __init__(self, threadID, name, counter): #myThread isimli sinifin constructori\n",
    "        threading.Thread.__init__(self)\n",
    "        self.threadID = threadID\n",
    "        self.name = name\n",
    "        self.counter = counter\n",
    "        \n",
    "    def run(self):\n",
    "        print (\"Starting \" + self.name)\n",
    "        print_time(self.name, 5, self.counter)\n",
    "        print (\"Exiting \" + self.name)\n",
    "\n",
    "def print_time(threadName, counter, beklemeSuresi):\n",
    "    while counter:\n",
    "        time.sleep(beklemeSuresi)\n",
    "        print (\"%s: %s\" % (threadName, time.ctime(time.time())))\n",
    "        counter -= 1\n",
    "\n",
    "thread1 = myThread(1, \"Thread-1\", 1) #thread tanımladık\n",
    "thread2 = myThread(2, \"Thread-2\", 2)\n",
    "\n",
    "thread1.start()  #threadleri çalıştırdık\n",
    "thread2.start()\n",
    "\n",
    "print(thread1.isAlive())\n",
    "print(thread1.getName())\n",
    "thread2.setName(\"thread-3\")"
   ]
  },
  {
   "cell_type": "markdown",
   "metadata": {},
   "source": [
    "* Yukarıda yer alan örnekte Thread sınıfını kullandık. Oluşturmuş olduğumuz myThread isimli sınıf Thread sınıfından miras almıştır.\n",
    "\n",
    "* def __init__(self, threadID, name, counter): satırı ile bu sınıfa ait bir constructor oluşturduk ve bu constructor içerisinde ilk değer ataması gerçekleştirdik.\n",
    "\n",
    "* thread1 = myThread(1, “Thread-1”, 1) satırı ile yeni bir thread tanımladık ve bu threadi thread1.start() satırı ile çalıştırdık. Start() metodu ile run() metodu tetiklendi ve thread asıl gerçekleştirmesi gereken işi bu şekilde gerçekleştirdi.\n",
    "\n",
    "* Ayrıca, kodun son bölümünde thread’ler çalışırken thread ismini değiştirdik."
   ]
  },
  {
   "cell_type": "code",
   "execution_count": 32,
   "metadata": {},
   "outputs": [],
   "source": [
    "# Calculate the moment of inertia\n",
    "def moment_of_inertia_circular( h ): \n",
    "    I = 3.14 * h**4  / 12\n",
    "    return I\n",
    "\n",
    "def moment_of_inertia_rect( b, h ): \n",
    "    I = (b  *  h**3) / 12\n",
    "    return I        \n",
    "\n",
    "def normal_stress_distribution( Q , L , E , dim , n = 2 , plotFlag = False ) :\n",
    "    \"\"\"\n",
    "    Description: This function creates the normal stress distribution of the simple beam\n",
    "    \n",
    "    Input: \n",
    "    Q : Distributed Load\n",
    "    L : Length of Beam\n",
    "    E : Elasticity Modulus of the Material\n",
    "    dim :\n",
    "    n : optional \n",
    "    \n",
    "    Output : \n",
    "    \n",
    "    stressMax : Max stress\n",
    "    stressDistribution: \n",
    "    \"\"\"\n",
    "    # Calculate the max bending moment\n",
    "    M_max = (Q * L**2)/8 # maximum moment\n",
    "\n",
    "    # Section definition\n",
    "    \n",
    "    if len( dim ) == 1 : \n",
    "        print( \"Section is circular\")\n",
    "        h = dim[0]\n",
    "        #I = moment_of_inertia_circular( h)\n",
    "        I_f = lambda x : 3.14 * x**4  / 12\n",
    "        I = I_f(h) \n",
    "    else :\n",
    "        print( \"Section is rectangular\")\n",
    "        b = dim[0]\n",
    "        h = dim[1]\n",
    "        # Calculate the moment of inertia\n",
    "        I = moment_of_inertia_rect( b, h )\n",
    "    \n",
    "    # Define the y values\n",
    "    y_values = [ -h/2 + h/n * item for item in range(n+1) ] # distance of interim points to the NA\n",
    "    \n",
    "    # Obtain the stress distribution \n",
    "    \n",
    "    stressDistribution = []\n",
    "    for i in y_values : \n",
    "        stressDistribution.append( (M_max)/(E * I) * i )  \n",
    "\n",
    "    # Compute the max stress value\n",
    "    stressMax = max( stressDistribution )\n",
    "    \n",
    "    # Visualize\n",
    "#     if plotFlag == True:\n",
    "    import matplotlib.pyplot as plt\n",
    "    plt.plot( stressDistribution , y_values , \"k\")\n",
    "    plt.box(False)\n",
    "    plt.axhline(0)\n",
    "    plt.axvline(0)\n",
    "    plt.title( f\"Max strain is {stressMax}\")\n",
    "    \n",
    "    # Return \n",
    "    return print(f\"Maximum Stress is : {stressMax}\\n\",\n",
    "                 f'Stress Distribution Serie is : {stressDistribution}\\n',\n",
    "                 f'Neutral Axis along the section is : {y_values}') "
   ]
  },
  {
   "cell_type": "code",
   "execution_count": 33,
   "metadata": {},
   "outputs": [
    {
     "name": "stdout",
     "output_type": "stream",
     "text": [
      "Section is circular\n",
      "Maximum Stress is : 4.777070063694268e-05\n",
      " Stress Distribution Serie is : [-4.777070063694268e-05, 0.0, 4.777070063694268e-05]\n",
      " Neutral Axis along the section is : [-2.5, 0.0, 2.5]\n"
     ]
    },
    {
     "data": {
      "image/png": "[encoded data removed]",
      "text/plain": [
       "<Figure size 432x288 with 1 Axes>"
      ]
     },
     "metadata": {
      "needs_background": "light"
     },
     "output_type": "display_data"
    }
   ],
   "source": [
    "normal_stress_distribution(20 , 5 , 20000 , [5])"
   ]
  },
  {
   "cell_type": "code",
   "execution_count": 34,
   "metadata": {},
   "outputs": [
    {
     "name": "stdout",
     "output_type": "stream",
     "text": [
      "Section is rectangular\n",
      "Maximum Stress is : 1.0416666666666665e-06\n",
      " Stress Distribution Serie is : [-1.0416666666666665e-06, 0.0, 1.0416666666666665e-06]\n",
      " Neutral Axis along the section is : [-15.0, 0.0, 15.0]\n"
     ]
    },
    {
     "data": {
      "image/png": "[encoded data removed]",
      "text/plain": [
       "<Figure size 432x288 with 1 Axes>"
      ]
     },
     "metadata": {
      "needs_background": "light"
     },
     "output_type": "display_data"
    }
   ],
   "source": [
    "normal_stress_distribution(20 , 5 , 20000 , [20,30] , n = 2 , plotFlag = False)"
   ]
  },
  {
   "cell_type": "code",
   "execution_count": 36,
   "metadata": {},
   "outputs": [
    {
     "name": "stdout",
     "output_type": "stream",
     "text": [
      "Section is circular\n",
      "Section is rectangular\n",
      "Maximum Stress is : 0.004777070063694267\n",
      " Stress Distribution Serie is : [-0.004777070063694267, 0.0, 0.004777070063694267]\n",
      " Neutral Axis along the section is : [-2.5, 0.0, 2.5]\n",
      "Maximum Stress is : 0.00010416666666666667\n",
      " Stress Distribution Serie is : [-0.00010416666666666667, 0.0, 0.00010416666666666667]\n",
      " Neutral Axis along the section is : [-15.0, 0.0, 15.0]\n"
     ]
    },
    {
     "data": {
      "image/png": "[encoded data removed]",
      "text/plain": [
       "<Figure size 432x288 with 1 Axes>"
      ]
     },
     "metadata": {
      "needs_background": "light"
     },
     "output_type": "display_data"
    }
   ],
   "source": [
    "import _thread\n",
    "\n",
    "# # İki thread olusturduk ve çalistirdik\n",
    "# _thread.start_new_thread( normal_stress_distribution, (20 , 5 , 20000 , [5]) ) #circular için işlem yapması bekleniyor\n",
    "# _thread.start_new_thread( normal_stress_distribution, (20 , 5 , 20000 , [20,30]) ) #rectangular için işlem yapması bekleniyor\n",
    "\n",
    "\n",
    "t1 = threading.Thread(target=normal_stress_distribution, args = (20 , 5 , 200 , [5]))  #threadi tanımladık ve f fonksiyonunu hedef gösterdik\n",
    "t1.start() #threadi çalıştırdık\n",
    "t2 = threading.Thread(target=normal_stress_distribution,args = (20 , 5 , 200 , [20,30]))\n",
    "t2.start()"
   ]
  },
  {
   "cell_type": "code",
   "execution_count": null,
   "metadata": {},
   "outputs": [],
   "source": []
  }
 ],
 "metadata": {
  "kernelspec": {
   "display_name": "Python 3",
   "language": "python",
   "name": "python3"
  },
  "language_info": {
   "codemirror_mode": {
    "name": "ipython",
    "version": 3
   },
   "file_extension": ".py",
   "mimetype": "text/x-python",
   "name": "python",
   "nbconvert_exporter": "python",
   "pygments_lexer": "ipython3",
   "version": "3.8.5"
  }
 },
 "nbformat": 4,
 "nbformat_minor": 4
}
