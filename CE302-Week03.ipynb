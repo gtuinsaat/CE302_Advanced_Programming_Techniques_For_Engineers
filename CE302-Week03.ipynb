{
 "cells": [
  {
   "cell_type": "markdown",
   "metadata": {},
   "source": [
    "# CE302 Advanced Programming Techniques for Engineers\n",
    "\n",
    "## Week 03\n",
    "\n",
    "---\n",
    "\n",
    "Dr. Ahmet Anıl Dindar (adindar@gtu.edu.tr) | TA Fırat Bezir (fbezir@gtu.edu.tr)\n",
    "\n",
    "---"
   ]
  },
  {
   "cell_type": "markdown",
   "metadata": {},
   "source": [
    "**This week**\n",
    "\n",
    "1. Functions\n",
    "\n",
    "2. Recursion\n",
    "\n",
    "\n",
    "--- "
   ]
  },
  {
   "cell_type": "markdown",
   "metadata": {},
   "source": [
    "## Functions\n",
    "\n",
    "The syntax is \n",
    "\n",
    "---\n",
    "\n",
    "def func( args ) :\n",
    "\n",
    "    \"\"\"\n",
    "    Docstring\n",
    "    \n",
    "    \"\"\"\n",
    "    Expressions\n",
    "    \n",
    "    \n",
    "    return variables\n",
    "\n",
    "---\n"
   ]
  },
  {
   "cell_type": "code",
   "execution_count": 1,
   "metadata": {},
   "outputs": [],
   "source": [
    "def myfunct_doubles( arg ):\n",
    "    \"\"\"\n",
    "    Description: Here is the function example. \n",
    "    \n",
    "    Input: \n",
    "    arg = First argument\n",
    "    \n",
    "    Output: \n",
    "    outPut = What the function gives out. \n",
    "    \n",
    "    \"\"\"\n",
    "    \n",
    "    outPut = arg *2  # This doubles\n",
    "    \n",
    "    return[outPut]\n",
    "    "
   ]
  },
  {
   "cell_type": "code",
   "execution_count": 2,
   "metadata": {},
   "outputs": [
    {
     "data": {
      "text/plain": [
       "[4]"
      ]
     },
     "execution_count": 2,
     "metadata": {},
     "output_type": "execute_result"
    }
   ],
   "source": [
    "myfunct_doubles(2)"
   ]
  },
  {
   "cell_type": "code",
   "execution_count": 3,
   "metadata": {},
   "outputs": [
    {
     "data": {
      "text/plain": [
       "[6]"
      ]
     },
     "execution_count": 3,
     "metadata": {},
     "output_type": "execute_result"
    }
   ],
   "source": [
    "myfunct_doubles(3)"
   ]
  },
  {
   "cell_type": "markdown",
   "metadata": {},
   "source": [
    "**Let's create a new function using the formulat we learned from Strength of Materials Course**\n",
    "\n",
    "![](./1-Figures/2021_0317-Week03-Figure1.png)\n",
    "\n",
    "\n",
    "![](./1-Figures/2021_0317-Week03-Z1.png)\n",
    "\n"
   ]
  },
  {
   "cell_type": "code",
   "execution_count": 46,
   "metadata": {},
   "outputs": [],
   "source": [
    "# Calculate the moment of inertia\n",
    "def moment_of_inertia_circular( h ): \n",
    "    I = 3.14 * h**4  / 12\n",
    "    return I\n",
    "\n",
    "def moment_of_inertia_rect( b, h ): \n",
    "    I = (b  *  h**3) / 12\n",
    "    return I        \n",
    "\n",
    "def normal_stress_distribution( Q , L , E , dim , n = 2  ) :\n",
    "    \"\"\"\n",
    "    Description: This function creates the normal stress distribution of the simple beam\n",
    "    \n",
    "    Input: \n",
    "    Q :\n",
    "    L :\n",
    "    E :\n",
    "    dim :\n",
    "    n : optional \n",
    "    \n",
    "    Output : \n",
    "    \n",
    "    stressMax : Max stress\n",
    "    stressDistribution: \n",
    "    \"\"\"\n",
    "    # Calculate the max bending moment\n",
    "    M_max = (Q * L**2)/8 # maximum moment\n",
    "\n",
    "    # Section definition\n",
    "    \n",
    "    if len( dim ) == 1 : \n",
    "        print( \"Section is circular\")\n",
    "        h = dim[0]\n",
    "        #I = moment_of_inertia_circular( h)\n",
    "        I_f = lambda x : 3.14 * x**4  / 12\n",
    "        I = I_f(h) \n",
    "    else :\n",
    "        print( \"Section is rectangular\")\n",
    "        b = dim[0]\n",
    "        h = dim[1]\n",
    "        # Calculate the moment of inertia\n",
    "        I = moment_of_inertia_rect( b, h )\n",
    "    \n",
    "    # Define the y values\n",
    "    y_values = [ -h/2 + h/n * item for item in range(n+1) ] # distance of interim points to the NA\n",
    "    \n",
    "    # Obtain the stress distribution \n",
    "    \n",
    "    stressDistribution = []\n",
    "    for i in y_values : \n",
    "        stressDistribution.append( (M_max)/(E * I) * i )  \n",
    "\n",
    "    # Compute the max stress value\n",
    "    stressMax = max( stressDistribution )\n",
    "    # Return \n",
    "    return [ stressMax , stressDistribution , y_values]"
   ]
  },
  {
   "cell_type": "code",
   "execution_count": 47,
   "metadata": {},
   "outputs": [
    {
     "name": "stdout",
     "output_type": "stream",
     "text": [
      "Section is circular\n",
      "[0.02388535031847134, [-0.02388535031847134, -0.022929936305732486, -0.021974522292993633, -0.021019108280254783, -0.020063694267515926, -0.019108280254777073, -0.01815286624203822, -0.017197452229299363, -0.016242038216560513, -0.01528662420382166, -0.014331210191082805, -0.01337579617834395, -0.012420382165605096, -0.011464968152866243, -0.010509554140127388, -0.009554140127388536, -0.008598726114649681, -0.007643312101910827, -0.006687898089171975, -0.005732484076433121, -0.004777070063694268, -0.0038216560509554136, -0.002866242038216559, -0.0019108280254777046, -0.0009554140127388503, 0.0, 0.0009554140127388545, 0.001910828025477709, 0.0028662420382165633, 0.003821656050955418, 0.004777070063694268, 0.005732484076433122, 0.006687898089171977, 0.0076433121019108315, 0.008598726114649687, 0.009554140127388536, 0.010509554140127391, 0.011464968152866245, 0.0124203821656051, 0.013375796178343955, 0.014331210191082805, 0.015286624203821663, 0.016242038216560513, 0.017197452229299363, 0.018152866242038223, 0.019108280254777073, 0.020063694267515933, 0.021019108280254783, 0.02197452229299364, 0.02292993630573249, 0.02388535031847134], [-5.0, -4.8, -4.6, -4.4, -4.2, -4.0, -3.8, -3.5999999999999996, -3.4, -3.2, -3.0, -2.8, -2.5999999999999996, -2.4, -2.1999999999999997, -2.0, -1.7999999999999998, -1.5999999999999996, -1.4, -1.1999999999999997, -1.0, -0.7999999999999998, -0.5999999999999996, -0.39999999999999947, -0.1999999999999993, 0.0, 0.20000000000000018, 0.40000000000000036, 0.6000000000000005, 0.8000000000000007, 1.0, 1.2000000000000002, 1.4000000000000004, 1.6000000000000005, 1.8000000000000007, 2.0, 2.2, 2.4000000000000004, 2.6000000000000005, 2.8000000000000007, 3.0, 3.200000000000001, 3.4000000000000004, 3.5999999999999996, 3.8000000000000007, 4.0, 4.200000000000001, 4.4, 4.600000000000001, 4.800000000000001, 5.0]]\n"
     ]
    }
   ],
   "source": [
    "print( normal_stress_distribution( 10 , 10 , 10 , [10],  n = 50 ) ) "
   ]
  },
  {
   "cell_type": "code",
   "execution_count": 48,
   "metadata": {},
   "outputs": [
    {
     "name": "stdout",
     "output_type": "stream",
     "text": [
      "Section is rectangular\n",
      "[0.008333333333333333, [-0.008333333333333333, 0.0, 0.008333333333333333], [-15.0, 0.0, 15.0]]\n"
     ]
    }
   ],
   "source": [
    "print( normal_stress_distribution( 10 , 10 , 10 , [10, 30 ]  ) ) "
   ]
  },
  {
   "cell_type": "markdown",
   "metadata": {},
   "source": [
    "**Lambda Functions ** "
   ]
  },
  {
   "cell_type": "code",
   "execution_count": 24,
   "metadata": {},
   "outputs": [],
   "source": [
    "f = lambda x : x + 2"
   ]
  },
  {
   "cell_type": "code",
   "execution_count": 25,
   "metadata": {},
   "outputs": [],
   "source": [
    "g = lambda x : x**2"
   ]
  },
  {
   "cell_type": "code",
   "execution_count": 26,
   "metadata": {},
   "outputs": [
    {
     "data": {
      "text/plain": [
       "4"
      ]
     },
     "execution_count": 26,
     "metadata": {},
     "output_type": "execute_result"
    }
   ],
   "source": [
    "f(2)"
   ]
  },
  {
   "cell_type": "code",
   "execution_count": 28,
   "metadata": {},
   "outputs": [
    {
     "data": {
      "text/plain": [
       "9"
      ]
     },
     "execution_count": 28,
     "metadata": {},
     "output_type": "execute_result"
    }
   ],
   "source": [
    "g(3)"
   ]
  },
  {
   "cell_type": "markdown",
   "metadata": {},
   "source": [
    "sorted(iterable, /, *, key=None, reverse=False)"
   ]
  },
  {
   "cell_type": "code",
   "execution_count": 35,
   "metadata": {},
   "outputs": [
    {
     "data": {
      "text/plain": [
       "[(7, 1), (10, 2), (5, 6)]"
      ]
     },
     "execution_count": 35,
     "metadata": {},
     "output_type": "execute_result"
    }
   ],
   "source": [
    "sorted( [(10,2) , (7,1) , (5,6)] , key = lambda q : q[1] )"
   ]
  },
  {
   "cell_type": "code",
   "execution_count": 45,
   "metadata": {},
   "outputs": [
    {
     "name": "stdout",
     "output_type": "stream",
     "text": [
      "0.08333333333333333\n",
      "1.3333333333333333\n",
      "6.75\n",
      "21.333333333333332\n"
     ]
    }
   ],
   "source": [
    "for i in [1,2,3,4]:\n",
    "    I = lambda b,h : b * h**3 / 12\n",
    "    print( I(i , i ) ) "
   ]
  },
  {
   "cell_type": "code",
   "execution_count": null,
   "metadata": {},
   "outputs": [],
   "source": []
  }
 ],
 "metadata": {
  "kernelspec": {
   "display_name": "Python 3",
   "language": "python",
   "name": "python3"
  },
  "language_info": {
   "codemirror_mode": {
    "name": "ipython",
    "version": 3
   },
   "file_extension": ".py",
   "mimetype": "text/x-python",
   "name": "python",
   "nbconvert_exporter": "python",
   "pygments_lexer": "ipython3",
   "version": "3.8.5"
  },
  "toc-autonumbering": false,
  "toc-showcode": false,
  "toc-showmarkdowntxt": true,
  "toc-showtags": true
 },
 "nbformat": 4,
 "nbformat_minor": 4
}
