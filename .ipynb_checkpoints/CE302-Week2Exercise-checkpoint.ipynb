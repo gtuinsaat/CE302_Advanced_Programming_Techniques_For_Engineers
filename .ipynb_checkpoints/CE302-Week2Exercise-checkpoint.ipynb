{
 "cells": [
  {
   "cell_type": "code",
   "execution_count": 2,
   "metadata": {},
   "outputs": [
    {
     "name": "stdout",
     "output_type": "stream",
     "text": [
      "2\n",
      "5\n",
      "6\n",
      "9\n",
      "12\n"
     ]
    }
   ],
   "source": [
    "# Given a list of integers, a, add all the elements of a.\n",
    "\n",
    "s = 0\n",
    "a = [2, 3, 1, 3, 3]\n",
    "for i in a:\n",
    "    s += i # note this is equivalent to s = s + i\n",
    "    \n",
    "    print(s)"
   ]
  },
  {
   "cell_type": "code",
   "execution_count": 5,
   "metadata": {},
   "outputs": [
    {
     "name": "stdout",
     "output_type": "stream",
     "text": [
      "2\n",
      "3\n",
      "6\n"
     ]
    }
   ],
   "source": [
    "# The Python function sum has already been written to handle the previous example. \n",
    "# However, assume you wish to add only the even numbers. \n",
    "# What would you change to the previous for-loop block to handle this restriction?\n",
    "\n",
    "s = 0\n",
    "for i in range(0, len(a), 2):\n",
    "#     print(i)\n",
    "    s += a[i]\n",
    "    \n",
    "    print(s)"
   ]
  },
  {
   "cell_type": "code",
   "execution_count": 6,
   "metadata": {},
   "outputs": [
    {
     "name": "stdout",
     "output_type": "stream",
     "text": [
      "One 1\n",
      "Two 2\n",
      "Three 3\n"
     ]
    }
   ],
   "source": [
    "# Define a dictionary and loop through all the keys and values.\n",
    "\n",
    "dict_a = {\"One\":1, \"Two\":2, \"Three\":3}\n",
    "\n",
    "for key in dict_a.keys():\n",
    "    print(key, dict_a[key])"
   ]
  },
  {
   "cell_type": "code",
   "execution_count": 7,
   "metadata": {},
   "outputs": [
    {
     "name": "stdout",
     "output_type": "stream",
     "text": [
      "One 1\n",
      "Two 2\n",
      "Three 3\n"
     ]
    }
   ],
   "source": [
    "# In the above example, we first get all the keys using the method keys, \n",
    "# and then use the key to get access the value. Alternatively, we could use the item method in a dictionary, \n",
    "# and get the key and value at the same time as show in the following example.\n",
    "\n",
    "for key, value in dict_a.items():\n",
    "    print(key, value)"
   ]
  },
  {
   "cell_type": "code",
   "execution_count": 11,
   "metadata": {},
   "outputs": [
    {
     "name": "stdout",
     "output_type": "stream",
     "text": [
      "One 1\n",
      "Two 2\n",
      "Three 3\n",
      "Four 4\n"
     ]
    }
   ],
   "source": [
    "# Note that, we could assign two different looping variables at the same time. There\n",
    "# are other cases that we could do things similarly. For example, if we have two lists\n",
    "# with same length, and we want to loop through them, we could do as the following\n",
    "# example using the zip function:\n",
    "\n",
    "\n",
    "a = [\"One\", \"Two\", \"Three\", \"Four\"]\n",
    "b = [1, 2, 3, 4]\n",
    "\n",
    "for i, j in zip(a, b):\n",
    "    print(i, j)\n"
   ]
  },
  {
   "cell_type": "code",
   "execution_count": 13,
   "metadata": {},
   "outputs": [],
   "source": [
    "# EXAMPLE: Let the function have_digits has the input as a string. \n",
    "# The output out should take the value 1 if the string contains digits, and 0 otherwise. \n",
    "# You could use the isdigit method of the string to check if the character is a digit.\n",
    "\n",
    "def have_digits(s):\n",
    "    \n",
    "    out = 0\n",
    "    \n",
    "    # loop through the string\n",
    "    for c in s:\n",
    "        # check if the character is a digit\n",
    "        if c.isdigit():\n",
    "            out = 1\n",
    "            break\n",
    "            \n",
    "    return out"
   ]
  },
  {
   "cell_type": "code",
   "execution_count": 15,
   "metadata": {},
   "outputs": [
    {
     "name": "stdout",
     "output_type": "stream",
     "text": [
      "0\n"
     ]
    }
   ],
   "source": [
    "out = have_digits(\"only for you\")\n",
    "print(out)"
   ]
  },
  {
   "cell_type": "markdown",
   "metadata": {},
   "source": [
    "Notice the new keyword break. If executed, the break keyword immediately stops the most immediate for-loop that contains it; that is, if it is contained in a nested for-loop, then it will only stop the innermost for-loop. In this particular case, the break command is executed if we ever find a digit in the string. The code will still function properly without this statement, but since the task is to find out if there are any digit in s, we do not have to keep looking if we find one. \n",
    "\n",
    "Similarly, if a human was given the same task for a long string of characters, that person would not continue looking for digits if he or she already found one. Break statements are used when anything happens in a for-loop that would make you want it to stop early. A less intrusive command is the keyword continue, which skips the remaining code in the current iteration of the for-loop, and continues on to the next element of the looping array. See the following example, that we use the keyword continue to skip the print function to print 2:"
   ]
  },
  {
   "cell_type": "code",
   "execution_count": 16,
   "metadata": {},
   "outputs": [
    {
     "name": "stdout",
     "output_type": "stream",
     "text": [
      "0\n",
      "1\n",
      "3\n",
      "4\n"
     ]
    }
   ],
   "source": [
    "for i in range(5):\n",
    "    \n",
    "    if i == 2:\n",
    "        continue\n",
    "        \n",
    "    print(i)"
   ]
  },
  {
   "cell_type": "markdown",
   "metadata": {},
   "source": [
    "EXAMPLE: Let the function my_dist_2_points(xy_points, xy), where the input argument xy_points is a list of x-y coordinates of a point in Euclidean space, xy is a list that contain an x-y coordinate, and the output d is a list containing the distances from xy to the points contained in each row of xy_points."
   ]
  },
  {
   "cell_type": "code",
   "execution_count": 17,
   "metadata": {},
   "outputs": [],
   "source": [
    "import math \n",
    "\n",
    "def my_dist_2_points(xy_points, xy):\n",
    "    \"\"\"\n",
    "    Returns an array of distances between xy and the points \n",
    "    contained in the rows of xy_points\n",
    "    \n",
    "    author\n",
    "    date\n",
    "    \"\"\"\n",
    "    d = []\n",
    "    for xy_point in xy_points:\n",
    "        dist = math.sqrt(\\\n",
    "            (xy_point[0] - xy[0])**2 + (xy_point[1] - xy[1])**2)\n",
    "        \n",
    "        d.append(dist)\n",
    "        \n",
    "    return d"
   ]
  },
  {
   "cell_type": "code",
   "execution_count": 18,
   "metadata": {},
   "outputs": [
    {
     "data": {
      "text/plain": [
       "[2.0, 1.4142135623730951, 1.0]"
      ]
     },
     "execution_count": 18,
     "metadata": {},
     "output_type": "execute_result"
    }
   ],
   "source": [
    "xy_points = [[3,2], [2, 3], [2, 2]]\n",
    "xy = [1, 2]\n",
    "my_dist_2_points(xy_points, xy)"
   ]
  },
  {
   "cell_type": "markdown",
   "metadata": {},
   "source": [
    "EXAMPLE: Let x be a two-dimensional array, [5 6;7 8]. Use a nested for-loop to sum all the elements in x."
   ]
  },
  {
   "cell_type": "code",
   "execution_count": 21,
   "metadata": {},
   "outputs": [
    {
     "name": "stdout",
     "output_type": "stream",
     "text": [
      "5\n",
      "11\n",
      "18\n",
      "26\n"
     ]
    }
   ],
   "source": [
    "import numpy as np \n",
    "\n",
    "x = np.array([[5, 6], [7, 8]])\n",
    "n, m = x.shape\n",
    "s = 0\n",
    "for i in range(n):\n",
    "    for j in range(m):\n",
    "        s += x[i, j]\n",
    "        \n",
    "        print(s)"
   ]
  },
  {
   "cell_type": "code",
   "execution_count": 23,
   "metadata": {},
   "outputs": [
    {
     "name": "stdout",
     "output_type": "stream",
     "text": [
      "\n",
      "Dünyanın en gelişmiş e.posta hizmetine\n",
      "hoşgeldiniz. Yalnız hizmetimizden\n",
      "yararlanmak için önce sisteme giriş\n",
      "yapmalısınız.\n",
      "\n"
     ]
    },
    {
     "name": "stdin",
     "output_type": "stream",
     "text": [
      "Parola:  12345\n"
     ]
    },
    {
     "name": "stdout",
     "output_type": "stream",
     "text": [
      "Ne yazık ki yanlış parola girdiniz!\n"
     ]
    }
   ],
   "source": [
    "print(\"\"\"\n",
    "Dünyanın en gelişmiş e.posta hizmetine\n",
    "hoşgeldiniz. Yalnız hizmetimizden\n",
    "yararlanmak için önce sisteme giriş\n",
    "yapmalısınız.\n",
    "\"\"\")\n",
    "\n",
    "parola = input(\"Parola: \")\n",
    "\n",
    "if parola == \"12345678\":\n",
    "    print(\"Sisteme Hoşgeldiniz!\")\n",
    "if parola != \"12345678\":\n",
    "    print(\"Ne yazık ki yanlış parola girdiniz!\")"
   ]
  },
  {
   "cell_type": "code",
   "execution_count": 25,
   "metadata": {},
   "outputs": [
    {
     "name": "stdin",
     "output_type": "stream",
     "text": [
      "Kullanıcı adınız:  frt..\n",
      "Parolanız :  44455\n"
     ]
    },
    {
     "name": "stdout",
     "output_type": "stream",
     "text": [
      "Kullanıcı adı ve parolanız toplam 10 karakterden oluşuyor!\n",
      "Sisteme hoşgeldiniz!\n"
     ]
    }
   ],
   "source": [
    "kullanıcı_adı = input(\"Kullanıcı adınız: \")\n",
    "parola = input(\"Parolanız : \")\n",
    "toplam_uzunluk = len(kullanıcı_adı) + len(parola)\n",
    "\n",
    "mesaj = \"Kullanıcı adı ve parolanız toplam {} karakterden oluşuyor!\"\n",
    "print(mesaj.format(toplam_uzunluk))\n",
    "if toplam_uzunluk > 40:\n",
    "    print(\"Kullanıcı adınız ile parolanızın \",\n",
    "\"toplam uzunluğu 40 karakteri geçmemeli!\")\n",
    "else:\n",
    "    print(\"Sisteme hoşgeldiniz!\")"
   ]
  },
  {
   "cell_type": "code",
   "execution_count": 27,
   "metadata": {},
   "outputs": [
    {
     "name": "stdout",
     "output_type": "stream",
     "text": [
      "\n",
      "(1) topla\n",
      "(2) çıkar\n",
      "(3) çarp\n",
      "(4) böl\n",
      "(5) karesini hesapla\n",
      "(6) karekök hesapla\n",
      "\n"
     ]
    },
    {
     "name": "stdin",
     "output_type": "stream",
     "text": [
      "Yapmak istediğiniz işlemin numarasını girin:  5\n",
      "Karesini hesaplamak istediğiniz sayıyı girin:  12\n"
     ]
    },
    {
     "name": "stdout",
     "output_type": "stream",
     "text": [
      "12 sayısının karesi = 144\n"
     ]
    }
   ],
   "source": [
    "giriş = \"\"\"\n",
    "(1) topla\n",
    "(2) çıkar\n",
    "(3) çarp\n",
    "(4) böl\n",
    "(5) karesini hesapla\n",
    "(6) karekök hesapla\n",
    "\"\"\"\n",
    "print(giriş)\n",
    "soru = input(\"Yapmak istediğiniz işlemin numarasını girin: \")\n",
    "if soru == \"1\":\n",
    "    sayı1 = int(input(\"Toplama işlemi için ilk sayıyı girin: \"))\n",
    "    sayı2 = int(input(\"Toplama işlemi için ikinci sayıyı girin: \"))\n",
    "    print(sayı1, \"+\", sayı2, \"=\", sayı1 + sayı2)\n",
    "elif soru == \"2\":\n",
    "    sayı3 = int(input(\"Çıkarma işlemi için ilk sayıyı girin: \"))\n",
    "    sayı4 = int(input(\"Çıkarma işlemi için ikinci sayıyı girin: \"))\n",
    "    print(sayı3, \"-\", sayı4, \"=\", sayı3 - sayı4)\n",
    "elif soru == \"3\":\n",
    "    sayı5 = int(input(\"Çarpma işlemi için ilk sayıyı girin: \"))\n",
    "    sayı6 = int(input(\"Çarpma işlemi için ikinci sayıyı girin: \"))\n",
    "    print(sayı5, \"x\", sayı6, \"=\", sayı5 * sayı6)\n",
    "elif soru == \"4\":\n",
    "    sayı7 = int(input(\"Bölme işlemi için ilk sayıyı girin: \"))\n",
    "    sayı8 = int(input(\"Bölme işlemi için ikinci sayıyı girin: \"))\n",
    "    print(sayı7, \"/\", sayı8, \"=\", sayı7 / sayı8)\n",
    "elif soru == \"5\":\n",
    "    sayı9 = int(input(\"Karesini hesaplamak istediğiniz sayıyı girin: \"))\n",
    "    print(sayı9, \"sayısının karesi =\", sayı9 ** 2)\n",
    "elif soru == \"6\":\n",
    "    sayı10 = int(input(\"Karekökünü hesaplamak istediğiniz sayıyı girin: \"))\n",
    "    print(sayı10, \"sayısının karekökü = \", sayı10 ** 0.5)\n",
    "else:\n",
    "    print(\"Yanlış giriş.\")\n",
    "    print(\"Aşağıdaki seçeneklerden birini giriniz:\", giriş)\n"
   ]
  },
  {
   "cell_type": "code",
   "execution_count": null,
   "metadata": {},
   "outputs": [],
   "source": []
  }
 ],
 "metadata": {
  "kernelspec": {
   "display_name": "Python 3",
   "language": "python",
   "name": "python3"
  },
  "language_info": {
   "codemirror_mode": {
    "name": "ipython",
    "version": 3
   },
   "file_extension": ".py",
   "mimetype": "text/x-python",
   "name": "python",
   "nbconvert_exporter": "python",
   "pygments_lexer": "ipython3",
   "version": "3.8.5"
  }
 },
 "nbformat": 4,
 "nbformat_minor": 4
}
