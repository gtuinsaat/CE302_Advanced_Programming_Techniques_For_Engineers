{
 "cells": [
  {
   "cell_type": "markdown",
   "metadata": {},
   "source": [
    "### Multithreading"
   ]
  },
  {
   "cell_type": "markdown",
   "metadata": {},
   "source": [
    "* Bir işletim sistemi üzerinde herhangi bir dil ile kodlanmış ve bir compiler (derleyici) ile derlenmiş ve daha sonra hafızaya yüklenerek işlemcide çalıştırılan programlara process denir. Kısacası bir programın çalışan hali processtir.\n",
    "\n",
    "* Threadler ise processlerin içerisinde yer alan eş zamanlı olarak çalışabilen iş parçacıklarıdır. Yani threadler sayesinde kodlarımızı ardaşık olarak yürütmek yerine eş zamanlı olarak yürütebiliriz.\n",
    "\n",
    "* Multithreading, çoğu yazılım dili tarafından desteklenen temel programlama prensibidir ve bir programda aynı zamanda birden fazla işin yapılabilmesini sağlamaktadır. Yani bir kod parçası bir işlemi gerçekleştirirken aynı anda ona paralel olarak bir başka kod parçasının da çalışması demektir. Multithread yapısında olmayan programlar, main thread isimli tek bir thread üzerinden yürütülürler."
   ]
  },
  {
   "cell_type": "markdown",
   "metadata": {},
   "source": [
    "![](1-Figures/m1.png), ![](1-Figures/m2.png)"
   ]
  },
  {
   "cell_type": "markdown",
   "metadata": {},
   "source": [
    "Thread kullanmak;\n",
    "\n",
    "* Kaynak paylaşımı\n",
    "* Daha az bekleme süresi\n",
    "* Daha verimli donanım kullanımı\n",
    "\n",
    "gibi faydalar sağlamaktadır."
   ]
  },
  {
   "cell_type": "markdown",
   "metadata": {},
   "source": [
    "## 1. Multithreading Modülü"
   ]
  },
  {
   "cell_type": "markdown",
   "metadata": {},
   "source": [
    "---\n",
    "Python dilini kullanarak threadler ile ilgili uygulamalar geliştirmek istiyorsak aşağıdaki iki modülden birisini import etmemiz gerekmektedir. Bu modüller;\n",
    "\n",
    "* thread\n",
    "* threading\n",
    "\n",
    "modülleridir.\n",
    "\n",
    "thread modülü python 3 ile birlikte (_thread) olarak değişmiştir. _thread ve threading modülleri arasındaki temel fark threading modülünün nesne dayalı programlama prensibini desteklemesidir.\n",
    "\n",
    "---"
   ]
  },
  {
   "cell_type": "code",
   "execution_count": null,
   "metadata": {},
   "outputs": [],
   "source": [
    "import _thread #_thread modülünü import ettik\n",
    "\n",
    "def f(threadName):  #threadin hedefi olan fonksiyon\n",
    "    i =0\n",
    "    \n",
    "    while i<7:\n",
    "        print(threadName ,\"çalışıyor\")\n",
    "        i=i+1\n",
    "\n",
    "_thread.start_new_thread(f,(\"thread-1\",)) #thread tanımladık ve aynı zamanda threadi start metodu ile çalıştırdık\n",
    "_thread.start_new_thread(f,(\"thread-2\",))"
   ]
  },
  {
   "cell_type": "markdown",
   "metadata": {},
   "source": [
    "Yukarıda yer alan kodda thread ile ilgili fonksiyonları kullanabilmek için ilk önce _thread modülünü import ettik.\n",
    "\n",
    "_thread.start_new_thread(f,(“thread-1”,)) ile yeni bir thread tanımladık ve threade hedef olarak f fonksiyonunu parametre olarak “thread-1”i verdik ve start ile çalıştırdık. Fonksiyon ile çalışan threadi 7 kere ekrana yazdırdık."
   ]
  },
  {
   "cell_type": "code",
   "execution_count": 2,
   "metadata": {},
   "outputs": [
    {
     "name": "stdout",
     "output_type": "stream",
     "text": [
      "thread-1 çalışıyor\n",
      "thread-1 çalışıyor\n",
      "thread-1 çalışıyor\n",
      "thread-1 çalışıyor\n",
      "thread-1 çalışıyor\n",
      "thread-1 çalışıyor\n",
      "thread-1 çalışıyor\n",
      "thread-2 çalışıyor\n",
      "thread-2 çalışıyor\n",
      "thread-2 çalışıyor\n",
      "thread-2 çalışıyor\n",
      "thread-2 çalışıyor\n",
      "thread-2 çalışıyor\n",
      "thread-2 çalışıyor\n"
     ]
    }
   ],
   "source": [
    "import threading #threading modülünü import ettik\n",
    "\n",
    "def f(threadName): \n",
    "    i =0\n",
    "    while i<7:\n",
    "        print(threadName ,\"çalışıyor\")\n",
    "        i=i+1\n",
    "\n",
    "t1 = threading.Thread(target=f,args = (\"thread-1\", ))  #threadi tanımladık ve f fonksiyonunu hedef gösterdik\n",
    "t1.start() #threadi çalıştırdık\n",
    "t2 = threading.Thread(target=f,args = (\"thread-2\", ))\n",
    "t2.start()"
   ]
  },
  {
   "cell_type": "markdown",
   "metadata": {},
   "source": [
    "Yukarıdaki kodda ilk olarak threading modülünü import ettik.\n",
    "\n",
    "t1 = threading.Thread(target=f,args = (“thread-1”, )) kodu ile t1 adında bir thread oluşturduk, threade hedef olarak f fonksiyonunu parametre olarak da “thread-1”i verdik. Start() komutuyla threadi çalıştırdık. \n",
    "\n",
    "Aynı şekilde iki threadi de ekrana 7 kere yazdırdık. "
   ]
  },
  {
   "cell_type": "code",
   "execution_count": null,
   "metadata": {},
   "outputs": [],
   "source": [
    "import _thread\n",
    "import time\n",
    "\n",
    "# threadin yapması gereken isleri fonksiyonun içerisinde tanimliyoruz\n",
    "def print_time( threadName, beklemeSuresi):\n",
    "    count = 0\n",
    "    while count < 5:\n",
    "        time.sleep(beklemeSuresi)\n",
    "        count += 1\n",
    "        print (\"%s: %s\" % ( threadName, time.ctime(time.time()) ))\n",
    "\n",
    "# İki thread olusturduk ve çalistirdik\n",
    "try:\n",
    "    _thread.start_new_thread( print_time, (\"Thread-1\", 1,) )\n",
    "    _thread.start_new_thread( print_time, (\"Thread-2\", 3,) )\n",
    "except:\n",
    "    print (\"Error : thread çalışmadı\")"
   ]
  },
  {
   "cell_type": "markdown",
   "metadata": {},
   "source": [
    "Yukarıda yer alan kodda ilk olarak _thread ve date modülünü import ettik. İlgili modülleri import ettikten sonra try bloğu içerisinde iki tane thread tanımladık, tanımladığımız threadlere hedef olarak print_time fonksiyonunu (threadin yapacağı iş) parametre olarak da “thread-1” ve 1’i verip çalıştırdık. Ekran çıktısı yukarıdaki gibidir. Thrad-1 1 saniye bekleme süresi ile ekrana tarihi ve sistemin saatini yazdırmaktadır. Thread-2 ise 3 saniye bekleme süresi ile ekrana tarihi ve sistemin saatini yazdırmaktadır."
   ]
  },
  {
   "cell_type": "code",
   "execution_count": 6,
   "metadata": {},
   "outputs": [
    {
     "data": {
      "text/plain": [
       "8872"
      ]
     },
     "execution_count": 6,
     "metadata": {},
     "output_type": "execute_result"
    },
    {
     "name": "stdout",
     "output_type": "stream",
     "text": [
      "Thread: 1\n",
      "1! = 1\n",
      "2! = 2\n",
      "3! = 6\n",
      "4! = 24\n",
      "Thread: 2\n",
      "1! = 1\n",
      "2! = 2\n",
      "3! = 6\n",
      "4! = 24\n",
      "5! = 120\n"
     ]
    }
   ],
   "source": [
    "#Threadler ile faktöriyel hesabı;\n",
    "\n",
    "import _thread\n",
    "\n",
    "threadId = 1\n",
    "\n",
    "def factorial(n):\n",
    "    global threadId\n",
    "    if n < 1:   \n",
    "        print (\"%s: %d\" % (\"Thread\", threadId ))\n",
    "        threadId += 1\n",
    "        return 1\n",
    "    else:\n",
    "        returnNumber = n * factorial( n - 1 )  # recursive fonksiyon\n",
    "        print(str(n) + '! = ' + str(returnNumber))\n",
    "        return returnNumber\n",
    "\n",
    "_thread.start_new_thread(factorial,(5, ))\n",
    "_thread.start_new_thread(factorial,(4, ))"
   ]
  },
  {
   "cell_type": "markdown",
   "metadata": {},
   "source": [
    "---\n",
    "## 2. Threading Modülünün Metotları"
   ]
  },
  {
   "cell_type": "markdown",
   "metadata": {},
   "source": [
    "threading modülünün _thread modülünden nesneye dayalı programlama prensiblerini desteklemesi yönünden farklıdır. Bunun yanında threading modülü _thread modülünün tüm metodlarını içerir ve _thread modülüne ek bazı metodları da destekler. Bu metodlar aşağıdaki gibidir:\n",
    "\n",
    "* threading.activeCount() : Aktif olarak çalışan thread sayısını geri döndürür.\n",
    "* threading.enumerate() : Aktif olarak çalışan threadlerin listesini geri döndürür.\n",
    "* threading.main_thread() : Main threadi geri döndürür.\n",
    "* threading.get_ident() : Threadin tanımlayıcısını (identifier) geri döndürür."
   ]
  },
  {
   "cell_type": "code",
   "execution_count": 12,
   "metadata": {},
   "outputs": [
    {
     "name": "stdout",
     "output_type": "stream",
     "text": [
      "5\n",
      "[<_MainThread(MainThread, started 10792)>, <Thread(Thread-4, started daemon 3884)>, <Heartbeat(Thread-5, started daemon 8928)>, <HistorySavingThread(IPythonHistorySavingThread, started 6516)>, <ParentPollerWindows(Thread-3, started daemon 8836)>]\n",
      "<_MainThread(MainThread, started 10792)>\n",
      "10792\n"
     ]
    }
   ],
   "source": [
    "import threading #threading modülünü import ettik\n",
    "\n",
    "def f(threadName): \n",
    "    i =0\n",
    "    while i<10:\n",
    "        #print(threadName ,\"çalışıyor\")\n",
    "        i=i+1\n",
    "\n",
    "t1 = threading.Thread(target=f,args = (\"thread-1\", ))  #threadi tanımladık ve f fonksiyonunu hedef gösterdik\n",
    "t1.start() #threadi çalıştırdık\n",
    "\n",
    "print(threading.activeCount())  #çalışan thread sayısı\n",
    "\n",
    "print(threading.enumerate())    #çalışan thread listesi\n",
    "\n",
    "print(threading.main_thread())  #main thread\n",
    "\n",
    "print(threading.get_ident())    #thread tanımlayıcısı"
   ]
  },
  {
   "cell_type": "markdown",
   "metadata": {},
   "source": [
    "---\n",
    "## 3. Thread Sınıfı Metotları"
   ]
  },
  {
   "cell_type": "markdown",
   "metadata": {},
   "source": [
    "Thread sınıfının metodları aşağıdaki gibidir.\n",
    "\n",
    "* run() : Threadin etkinliğini yaptığı işi temsil eder.\n",
    "* start() : Threadin yapacağı işi, etkinliğini başlatır. run() metodunun çalıştırılmasını sağlar.\n",
    "* join([time]) : Thread sonlanana kadar bekler.\n",
    "* isAlive() : Threadin hala çalışıp çalışmadığını kontrol eder. True, false değer döndürür.\n",
    "* getName() : Threadin adını döndürür.\n",
    "* setName() : Threadin adını set eder."
   ]
  },
  {
   "cell_type": "code",
   "execution_count": 13,
   "metadata": {},
   "outputs": [
    {
     "name": "stdout",
     "output_type": "stream",
     "text": [
      "Starting Thread-1\n",
      "Starting Thread-2True\n",
      "Thread-1\n"
     ]
    },
    {
     "name": "stderr",
     "output_type": "stream",
     "text": [
      "<ipython-input-13-27987e433dda>:29: DeprecationWarning: isAlive() is deprecated, use is_alive() instead\n",
      "  print(thread1.isAlive())\n"
     ]
    },
    {
     "name": "stdout",
     "output_type": "stream",
     "text": [
      "\n",
      "Thread-1: Wed Apr 21 10:51:45 2021\n",
      "thread-3: Wed Apr 21 10:51:46 2021Thread-1: Wed Apr 21 10:51:46 2021\n",
      "\n",
      "Thread-1: Wed Apr 21 10:51:47 2021\n",
      "thread-3: Wed Apr 21 10:51:48 2021\n",
      "Thread-1: Wed Apr 21 10:51:48 2021\n",
      "Thread-1: Wed Apr 21 10:51:49 2021\n",
      "Exiting Thread-1\n",
      "thread-3: Wed Apr 21 10:51:50 2021\n",
      "thread-3: Wed Apr 21 10:51:52 2021\n",
      "thread-3: Wed Apr 21 10:51:54 2021\n",
      "Exiting thread-3\n"
     ]
    }
   ],
   "source": [
    "import threading \n",
    "import time\n",
    "\n",
    "class myThread (threading.Thread):  #myThread isimli sinifimiz Thread sinifindan miras aldı.\n",
    "    \n",
    "    def __init__(self, threadID, name, counter): #myThread isimli sinifin constructori\n",
    "        threading.Thread.__init__(self)\n",
    "        self.threadID = threadID\n",
    "        self.name = name\n",
    "        self.counter = counter\n",
    "        \n",
    "    def run(self):\n",
    "        print (\"Starting \" + self.name)\n",
    "        print_time(self.name, 5, self.counter)\n",
    "        print (\"Exiting \" + self.name)\n",
    "\n",
    "def print_time(threadName, counter, beklemeSuresi):\n",
    "    while counter:\n",
    "        time.sleep(beklemeSuresi)\n",
    "        print (\"%s: %s\" % (threadName, time.ctime(time.time())))\n",
    "        counter -= 1\n",
    "\n",
    "thread1 = myThread(1, \"Thread-1\", 1) #thread tanımladık\n",
    "thread2 = myThread(2, \"Thread-2\", 2)\n",
    "\n",
    "thread1.start()  #threadleri çalıştırdık\n",
    "thread2.start()\n",
    "\n",
    "print(thread1.isAlive())\n",
    "print(thread1.getName())\n",
    "thread2.setName(\"thread-3\")"
   ]
  },
  {
   "cell_type": "markdown",
   "metadata": {},
   "source": [
    "* Yukarıda yer alan örnekte Thread sınıfını kullandık. Oluşturmuş olduğumuz myThread isimli sınıf Thread sınıfından miras almıştır.\n",
    "\n",
    "* def __init__(self, threadID, name, counter): satırı ile bu sınıfa ait bir constructor oluşturduk ve bu constructor içerisinde ilk değer ataması gerçekleştirdik.\n",
    "\n",
    "* thread1 = myThread(1, “Thread-1”, 1) satırı ile yeni bir thread tanımladık ve bu threadi thread1.start() satırı ile çalıştırdık. Start() metodu ile run() metodu tetiklendi ve thread asıl gerçekleştirmesi gereken işi bu şekilde gerçekleştirdi.\n",
    "\n",
    "* Ayrıca, kodun son bölümünde thread’ler çalışırken thread ismini değiştirdik."
   ]
  },
  {
   "cell_type": "code",
   "execution_count": null,
   "metadata": {},
   "outputs": [],
   "source": [
    "# import threading\n",
    "# import time\n",
    "\n",
    "# def zaman(): \n",
    "#     while True:\n",
    "#         time.sleep(1)\n",
    "#         print(time.ctime(time.time()))\n",
    "\n",
    "# def calistir(threadName):\n",
    "#     for i in range(5):\n",
    "#         time.sleep(1)\n",
    "#         print(threadName ,\"çalışıyor\")\n",
    "\n",
    "# t1 = threading.Thread(target=zaman, daemon=True)\n",
    "# t2 = threading.Thread(target=calistir, args = (\"thread-2\", ))\n",
    "\n",
    "# t1.start()\n",
    "# t2.start()"
   ]
  },
  {
   "cell_type": "code",
   "execution_count": null,
   "metadata": {},
   "outputs": [],
   "source": []
  },
  {
   "cell_type": "code",
   "execution_count": null,
   "metadata": {},
   "outputs": [],
   "source": []
  }
 ],
 "metadata": {
  "kernelspec": {
   "display_name": "Python 3",
   "language": "python",
   "name": "python3"
  },
  "language_info": {
   "codemirror_mode": {
    "name": "ipython",
    "version": 3
   },
   "file_extension": ".py",
   "mimetype": "text/x-python",
   "name": "python",
   "nbconvert_exporter": "python",
   "pygments_lexer": "ipython3",
   "version": "3.8.5"
  }
 },
 "nbformat": 4,
 "nbformat_minor": 4
}
